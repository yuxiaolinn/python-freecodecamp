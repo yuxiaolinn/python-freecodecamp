{
  "cells": [
    {
      "cell_type": "markdown",
      "metadata": {
        "id": "view-in-github",
        "colab_type": "text"
      },
      "source": [
        "<a href=\"https://colab.research.google.com/github/yuxiaolinn/python-freecodecamp/blob/main/python_binary_search_assignment.ipynb\" target=\"_parent\"><img src=\"https://colab.research.google.com/assets/colab-badge.svg\" alt=\"Open In Colab\"/></a>"
      ]
    },
    {
      "cell_type": "markdown",
      "id": "requested-power",
      "metadata": {
        "id": "requested-power"
      },
      "source": [
        "# Assignment 1 - Binary Search Practice\n",
        "\n",
        "_This assignment is a part of the course [\"Data Structures and Algorithms in Python\"](https://jovian.ai/learn/data-structures-and-algorithms-in-python)._\n",
        "\n",
        "In this assignment, you'll get to practice some of the concepts and skills covered in the following notebooks:\n",
        "\n",
        "1. [Binary Search and Complexity Analysis](https://jovian.ai/aakashns/python-binary-search)\n",
        "3. [Solving Programming Problems Systematically](https://jovian.ai/aakashns/python-problem-solving-template)\n",
        "\n",
        "As you go through this notebook, you will find a **???** in certain places. To complete this assignment, you must replace all the **???** with appropriate values, expressions or statements to ensure that the notebook runs properly end-to-end.\n",
        "\n",
        "Some things to keep in mind:\n",
        "\n",
        "* Make sure to run all the code cells, otherwise you may get errors like `NameError` for undefined variables.\n",
        "* Do not change variable names, delete cells or disturb other existing code. It may cause problems during evaluation.\n",
        "* In some cases, you may need to add some code cells or new statements before or after the line of code containing the **???**.\n",
        "* Since you'll be using a temporary online service for code execution, save your work by running `jovian.commit` at regular intervals.\n",
        "* Questions marked **(Optional)** will not be considered for evaluation, and can be skipped. They are for your learning.\n",
        "\n",
        "You can make submissions on this page: https://jovian.ai/learn/data-structures-and-algorithms-in-python/assignment/assignment-1-binary-search-practice\n",
        "\n",
        "\n",
        "If you are stuck, you can ask for help on the community forum: https://jovian.ai/forum/c/data-structures-and-algorithms-in-python/assignment-1/87 . You can get help with errors or ask for hints, but **please don't ask for OR share the full working answer code** on the forum.\n",
        "\n"
      ]
    },
    {
      "cell_type": "markdown",
      "id": "incident-screw",
      "metadata": {
        "id": "incident-screw"
      },
      "source": [
        "## How to run the code and save your work\n",
        "\n",
        "The recommended way to run this notebook is to click the \"Run\" button at the top of this page, and select \"Run on Binder\". This will run the notebook on [mybinder.org](https://mybinder.org), a free online service for running Jupyter notebooks.\n",
        "\n",
        "This tutorial is an executable [Jupyter notebook](https://jupyter.org). You can _run_ this tutorial and experiment with the code examples in a couple of ways: *using free online resources* (recommended) or *on your computer*.\n",
        "\n",
        "#### Option 1: Running using free online resources (1-click, recommended)\n",
        "\n",
        "The easiest way to start executing the code is to click the **Run** button at the top of this page and select **Run on Binder**. You can also select \"Run on Colab\" or \"Run on Kaggle\", but you'll need to create an account on [Google Colab](https://colab.research.google.com) or [Kaggle](https://kaggle.com) to use these platforms.\n",
        "\n",
        "\n",
        "#### Option 2: Running on your computer locally\n",
        "\n",
        "To run the code on your computer locally, you'll need to set up [Python](https://www.python.org), download the notebook and install the required libraries. We recommend using the [Conda](https://docs.conda.io/projects/conda/en/latest/user-guide/install/) distribution of Python. Click the **Run** button at the top of this page, select the **Run Locally** option, and follow the instructions.\n",
        "\n",
        "#### Saving your work\n",
        "\n",
        "Before staring the assignment, let's save a snapshot of the assignment to your [Jovian](https://jovian.ai) profile, so that you can access it later, and continue your work."
      ]
    },
    {
      "cell_type": "code",
      "execution_count": 3,
      "id": "together-original",
      "metadata": {
        "colab": {
          "base_uri": "https://localhost:8080/"
        },
        "id": "together-original",
        "outputId": "0d31e2bc-f6f5-445e-9b8f-4ad3c5363836"
      },
      "outputs": [
        {
          "output_type": "stream",
          "name": "stdout",
          "text": [
            "  Preparing metadata (setup.py) ... \u001b[?25l\u001b[?25hdone\n",
            "\u001b[?25l   \u001b[90m━━━━━━━━━━━━━━━━━━━━━━━━━━━━━━━━━━━━━━━━\u001b[0m \u001b[32m0.0/68.6 kB\u001b[0m \u001b[31m?\u001b[0m eta \u001b[36m-:--:--\u001b[0m\r\u001b[2K   \u001b[90m━━━━━━━━━━━━━━━━━━━━━━━━━━━━━━━━━━━━━━━━\u001b[0m \u001b[32m68.6/68.6 kB\u001b[0m \u001b[31m4.0 MB/s\u001b[0m eta \u001b[36m0:00:00\u001b[0m\n",
            "\u001b[?25h  Building wheel for uuid (setup.py) ... \u001b[?25l\u001b[?25hdone\n"
          ]
        }
      ],
      "source": [
        "!pip install jovian --upgrade --quiet"
      ]
    },
    {
      "cell_type": "code",
      "execution_count": 4,
      "id": "painful-receptor",
      "metadata": {
        "id": "painful-receptor"
      },
      "outputs": [],
      "source": [
        "import jovian"
      ]
    },
    {
      "cell_type": "code",
      "execution_count": 5,
      "id": "confirmed-stephen",
      "metadata": {
        "id": "confirmed-stephen"
      },
      "outputs": [],
      "source": [
        "project='python-binary-search-assignment'"
      ]
    },
    {
      "cell_type": "code",
      "execution_count": 6,
      "id": "magnetic-economy",
      "metadata": {
        "colab": {
          "base_uri": "https://localhost:8080/"
        },
        "id": "magnetic-economy",
        "outputId": "f28451df-f605-430c-9075-027c249fdcbe"
      },
      "outputs": [
        {
          "output_type": "stream",
          "name": "stdout",
          "text": [
            "[jovian] Detected Colab notebook...\u001b[0m\n",
            "[jovian] jovian.commit() is no longer required on Google Colab. If you ran this notebook from Jovian, \n",
            "then just save this file in Colab using Ctrl+S/Cmd+S and it will be updated on Jovian. \n",
            "Also, you can also delete this cell, it's no longer necessary.\u001b[0m\n"
          ]
        }
      ],
      "source": [
        "jovian.commit(project=project, privacy='secret', environment=None)"
      ]
    },
    {
      "cell_type": "markdown",
      "id": "administrative-marketing",
      "metadata": {
        "id": "administrative-marketing"
      },
      "source": [
        "You'll be asked to provide an API Key, to securely upload the notebook to your Jovian.ml account. You can get the API key from your Jovian profile page after logging in / signing up. See the docs for details: https://jovian.ai/docs/user-guide/upload.html .\n",
        "\n",
        "The privacy of your assignment notebook is set to \"Secret\", so that you can the evaluators can access it, but it will not shown on your public profile to other users. To continue working on a saved assignment, just run the saved notebook again."
      ]
    },
    {
      "cell_type": "markdown",
      "id": "conservative-worcester",
      "metadata": {
        "id": "conservative-worcester"
      },
      "source": [
        "## Problem - Rotated Lists\n",
        "\n",
        "We'll solve the following problem step-by-step:\n",
        "\n",
        "> You are given list of numbers, obtained by rotating a sorted list an unknown number of times. Write a function to determine the minimum number of times the original sorted list was rotated to obtain the given list. Your function should have the worst-case complexity of `O(log N)`, where N is the length of the list. You can assume that all the numbers in the list are unique.\n",
        ">\n",
        "> Example: The list `[5, 6, 9, 0, 2, 3, 4]` was obtained by rotating the sorted list `[0, 2, 3, 4, 5, 6, 9]` 3 times.\n",
        ">\n",
        "> We define \"rotating a list\" as removing the last element of the list and adding it before the first element. E.g. rotating the list `[3, 2, 4, 1]` produces `[1, 3, 2, 4]`.\n",
        ">\n",
        ">\"Sorted list\" refers to a list where the elements are arranged in the increasing order  e.g. `[1, 3, 5, 7]`.\n",
        ">"
      ]
    },
    {
      "cell_type": "markdown",
      "id": "popular-junction",
      "metadata": {
        "id": "popular-junction"
      },
      "source": [
        "## The Method\n",
        "\n",
        "Here's the systematic strategy we'll apply for solving problems:\n",
        "\n",
        "1. State the problem clearly. Identify the input & output formats.\n",
        "2. Come up with some example inputs & outputs. Try to cover all edge cases.\n",
        "3. Come up with a correct solution for the problem. State it in plain English.\n",
        "4. Implement the solution and test it using example inputs. Fix bugs, if any.\n",
        "5. Analyze the algorithm's complexity and identify inefficiencies, if any.\n",
        "6. Apply the right technique to overcome the inefficiency. Repeat steps 3 to 6.\n",
        "\n",
        "This approach is explained in detail in [Lesson 1](https://jovian.ai/learn/data-structures-and-algorithms-in-python/lesson/lesson-1-binary-search-linked-lists-and-complexity) of the course. Let's apply this approach step-by-step."
      ]
    },
    {
      "cell_type": "markdown",
      "id": "rotary-champion",
      "metadata": {
        "id": "rotary-champion"
      },
      "source": [
        "## Solution\n",
        "\n",
        "\n",
        "### 1. State the problem clearly. Identify the input & output formats.\n",
        "\n",
        "While this problem is stated clearly enough, it's always useful to try and express in your own words, in a way that makes it most clear for you. It's perfectly OK if your description overlaps with the original problem statement to a large extent.\n",
        "\n",
        "<br/>\n",
        "\n",
        "_**Q: Express the problem in your own words below (to edit this cell, double click on it).**_\n",
        "\n",
        "**Problem**\n",
        "\n",
        "> **I should write code to calculate how many steps are needed to rotate list A to list B.\n",
        "There are two possibilities: either list A can be rotated to list B, or it cannot.\n",
        "In the first case, list A may contain one number or more than one number.\n",
        "If list A has only one number, it requires 0 rotations. If list A has more than one number, it requires at least one rotation.\n",
        "In the second case, list A may be empty, or it cannot be rotated to list B because the two lists contain different numbers.\n",
        "Therefore, if list A is empty, return -1. Also, if after rotating list A n-1 times it still does not match list B, return -1.**\n",
        "\n",
        "<br/>\n",
        "\n",
        "_**Q: The function you write will take one input called `nums`. What does it represent? Give an example.**_\n",
        "\n",
        "**Input**\n",
        "\n",
        "1. `nums`: **[1, 3, 5, 6, 8, 11, 19, 23, 25]**\n",
        "\n",
        "<br/>\n",
        "\n",
        "_**Q: The function you write will return a single output called `rotations`. What does it represent? Give an example.**_\n",
        "\n",
        "**Output**\n",
        "\n",
        "3. `rotations`: **3**\n",
        "\n",
        "<br/>\n",
        "\n",
        "Based on the above, we can now create a signature of our function:"
      ]
    },
    {
      "cell_type": "code",
      "execution_count": 1,
      "id": "adult-boring",
      "metadata": {
        "id": "adult-boring"
      },
      "outputs": [],
      "source": [
        "def count_rotations(nums):\n",
        "    pass"
      ]
    },
    {
      "cell_type": "markdown",
      "id": "logical-change",
      "metadata": {
        "id": "logical-change"
      },
      "source": [
        "After each, step remember to save your notebook"
      ]
    },
    {
      "cell_type": "code",
      "execution_count": 7,
      "id": "alone-status",
      "metadata": {
        "colab": {
          "base_uri": "https://localhost:8080/"
        },
        "id": "alone-status",
        "outputId": "7f9987a2-8b97-4d56-b222-5a657bfc4c96"
      },
      "outputs": [
        {
          "output_type": "stream",
          "name": "stdout",
          "text": [
            "[jovian] Detected Colab notebook...\u001b[0m\n",
            "[jovian] jovian.commit() is no longer required on Google Colab. If you ran this notebook from Jovian, \n",
            "then just save this file in Colab using Ctrl+S/Cmd+S and it will be updated on Jovian. \n",
            "Also, you can also delete this cell, it's no longer necessary.\u001b[0m\n"
          ]
        }
      ],
      "source": [
        "jovian.commit(project=project)"
      ]
    },
    {
      "cell_type": "markdown",
      "id": "stuck-application",
      "metadata": {
        "id": "stuck-application"
      },
      "source": [
        "### 2. Come up with some example inputs & outputs. Try to cover all edge cases.\n",
        "\n",
        "Our function should be able to handle any set of valid inputs we pass into it. Here's a list of some possible variations we might encounter:\n",
        "\n",
        "1. A list of size 10 rotated 3 times.\n",
        "2. A list of size 8 rotated 5 times.\n",
        "3. A list that wasn't rotated at all.\n",
        "4. A list that was rotated just once.\n",
        "5. A list that was rotated `n-1` times, where `n` is the size of the list.\n",
        "6. A list that was rotated `n` times (do you get back the original list here?)\n",
        "7. An empty list.\n",
        "8. A list containing just one element.\n",
        "9. (can you think of any more?)\n",
        "\n",
        "We'll express our test cases as dictionaries, to test them easily. Each dictionary will contain 2 keys: `input` (a dictionary itself containing one key for each argument to the function and `output` (the expected result from the function). Here's an example."
      ]
    },
    {
      "cell_type": "code",
      "execution_count": 28,
      "id": "incoming-assumption",
      "metadata": {
        "id": "incoming-assumption"
      },
      "outputs": [],
      "source": [
        "test = {\n",
        "    'input': {\n",
        "        'nums': [19, 25, 29, 3, 5, 6, 7, 9, 11, 14]\n",
        "    },\n",
        "    'output': 3\n",
        "}"
      ]
    },
    {
      "cell_type": "markdown",
      "id": "nervous-austin",
      "metadata": {
        "id": "nervous-austin"
      },
      "source": [
        "We can test the function by passing the input to it directly or by using the `evaluate_test_case` function from `jovian`."
      ]
    },
    {
      "cell_type": "code",
      "execution_count": 29,
      "id": "moral-glenn",
      "metadata": {
        "colab": {
          "base_uri": "https://localhost:8080/"
        },
        "id": "moral-glenn",
        "outputId": "0665a927-92aa-44b3-ec53-cd6212bf5061"
      },
      "outputs": [
        {
          "output_type": "execute_result",
          "data": {
            "text/plain": [
              "(None, False)"
            ]
          },
          "metadata": {},
          "execution_count": 29
        }
      ],
      "source": [
        "nums0 = test['input']['nums']\n",
        "output0 = test['input']['nums']\n",
        "result0 = count_rotations(nums0)\n",
        "\n",
        "result0, result0 == output0"
      ]
    },
    {
      "cell_type": "code",
      "execution_count": 30,
      "id": "official-theology",
      "metadata": {
        "id": "official-theology"
      },
      "outputs": [],
      "source": [
        "from jovian.pythondsa import evaluate_test_case"
      ]
    },
    {
      "cell_type": "code",
      "execution_count": 31,
      "id": "charitable-daniel",
      "metadata": {
        "colab": {
          "base_uri": "https://localhost:8080/"
        },
        "id": "charitable-daniel",
        "outputId": "398eec4b-87f9-48ec-b37a-14ec16099182"
      },
      "outputs": [
        {
          "output_type": "stream",
          "name": "stdout",
          "text": [
            "\n",
            "Input:\n",
            "{'nums': [19, 25, 29, 3, 5, 6, 7, 9, 11, 14]}\n",
            "\n",
            "Expected Output:\n",
            "3\n",
            "\n",
            "\n",
            "Actual Output:\n",
            "None\n",
            "\n",
            "Execution Time:\n",
            "0.003 ms\n",
            "\n",
            "Test Result:\n",
            "\u001b[91mFAILED\u001b[0m\n",
            "\n"
          ]
        },
        {
          "output_type": "execute_result",
          "data": {
            "text/plain": [
              "(None, False, 0.003)"
            ]
          },
          "metadata": {},
          "execution_count": 31
        }
      ],
      "source": [
        "evaluate_test_case(count_rotations, test)"
      ]
    },
    {
      "cell_type": "markdown",
      "id": "saved-carnival",
      "metadata": {
        "id": "saved-carnival"
      },
      "source": [
        "**Let**'s create one test case for each of the scenarios listed above. We'll store our test cases in an array called `tests`."
      ]
    },
    {
      "cell_type": "markdown",
      "id": "neither-stability",
      "metadata": {
        "id": "neither-stability"
      },
      "source": [
        "_**Q: Create proper test cases for each of the scenarios listed above.**_"
      ]
    },
    {
      "cell_type": "code",
      "execution_count": 12,
      "id": "egyptian-recording",
      "metadata": {
        "id": "egyptian-recording"
      },
      "outputs": [],
      "source": [
        "test0 = test"
      ]
    },
    {
      "cell_type": "code",
      "execution_count": 32,
      "id": "capital-milwaukee",
      "metadata": {
        "id": "capital-milwaukee"
      },
      "outputs": [],
      "source": [
        "# A list of size 8 rotated 5 times.\n",
        "test1 = {\n",
        "    'input': {\n",
        "        'nums': [7, 11, 19, 25, 29, 3, 5, 6]\n",
        "    },\n",
        "    'output': 5\n",
        "}"
      ]
    },
    {
      "cell_type": "code",
      "execution_count": 33,
      "id": "simple-variable",
      "metadata": {
        "id": "simple-variable"
      },
      "outputs": [],
      "source": [
        "# A list that wasn't rotated at all.\n",
        "test2 = {\n",
        "    'input': {\n",
        "        'nums': [3, 4, 5, 7, 9]\n",
        "    },\n",
        "    'output': 0\n",
        "}"
      ]
    },
    {
      "cell_type": "markdown",
      "id": "bright-accessory",
      "metadata": {
        "id": "bright-accessory"
      },
      "source": [
        "A list that was rotated just once.\n",
        "A list that was rotated n-1 times, where n is the size of the list.\n",
        "A list that was rotated n times (do you get back the original list here?)\n",
        "An empty list.\n",
        "A list containing just one element."
      ]
    },
    {
      "cell_type": "code",
      "execution_count": 34,
      "id": "pursuant-facility",
      "metadata": {
        "id": "pursuant-facility"
      },
      "outputs": [],
      "source": [
        "# A list that was rotated just once.\n",
        "test3 = {\n",
        "    'input': {\n",
        "        'nums': [9, 3, 4, 5, 7]\n",
        "    },\n",
        "    'output': 1\n",
        "}"
      ]
    },
    {
      "cell_type": "code",
      "execution_count": 35,
      "id": "boring-minimum",
      "metadata": {
        "id": "boring-minimum"
      },
      "outputs": [],
      "source": [
        "# A list that was rotated n-1 times, where n is the size of the list.\n",
        "test4 = {\n",
        "    'input': {\n",
        "        'nums': [4, 5, 7, 9, 3]\n",
        "    },\n",
        "    'output': 4\n",
        "}"
      ]
    },
    {
      "cell_type": "code",
      "execution_count": 66,
      "id": "tamil-iceland",
      "metadata": {
        "id": "tamil-iceland"
      },
      "outputs": [],
      "source": [
        "# A list that was rotated n times, where n is the size of the list\n",
        "test5 = {\n",
        "    'input': {\n",
        "        'nums': [3, 4, 5, 7, 9]\n",
        "    },\n",
        "    'output': 0\n",
        "}"
      ]
    },
    {
      "cell_type": "markdown",
      "id": "sweet-ideal",
      "metadata": {
        "id": "sweet-ideal"
      },
      "source": [
        "**HINT**: Read the question carefully to determine the correct output for the above test case."
      ]
    },
    {
      "cell_type": "code",
      "execution_count": 37,
      "id": "shared-cream",
      "metadata": {
        "id": "shared-cream"
      },
      "outputs": [],
      "source": [
        "# An empty list.\n",
        "test6 = {\n",
        "    'input': {\n",
        "        'nums': []\n",
        "    },\n",
        "    'output': -1\n",
        "}"
      ]
    },
    {
      "cell_type": "code",
      "execution_count": 38,
      "id": "advanced-career",
      "metadata": {
        "id": "advanced-career"
      },
      "outputs": [],
      "source": [
        "# A list containing just one element.\n",
        "test7 = {\n",
        "    'input': {\n",
        "        'nums': [3]\n",
        "    },\n",
        "    'output': 0\n",
        "}"
      ]
    },
    {
      "cell_type": "code",
      "execution_count": 68,
      "id": "romantic-zambia",
      "metadata": {
        "id": "romantic-zambia"
      },
      "outputs": [],
      "source": [
        "tests = [test0, test1, test2, test3, test4, test5, test6, test7]"
      ]
    },
    {
      "cell_type": "markdown",
      "id": "three-factory",
      "metadata": {
        "id": "three-factory"
      },
      "source": [
        "_**Q (Optional): Include any further test cases below, for other interesting scenarios you can think of.**_"
      ]
    },
    {
      "cell_type": "code",
      "execution_count": null,
      "id": "infrared-worship",
      "metadata": {
        "id": "infrared-worship"
      },
      "outputs": [],
      "source": []
    },
    {
      "cell_type": "code",
      "execution_count": null,
      "id": "stable-strategy",
      "metadata": {
        "id": "stable-strategy"
      },
      "outputs": [],
      "source": []
    },
    {
      "cell_type": "markdown",
      "id": "arabic-davis",
      "metadata": {
        "id": "arabic-davis"
      },
      "source": [
        "Evaluate your function against all the test cases together using the `evaluate_test_cases` (plural) function from `jovian`."
      ]
    },
    {
      "cell_type": "code",
      "execution_count": 69,
      "id": "sophisticated-michael",
      "metadata": {
        "id": "sophisticated-michael"
      },
      "outputs": [],
      "source": [
        "from jovian.pythondsa import evaluate_test_cases"
      ]
    },
    {
      "cell_type": "code",
      "execution_count": 70,
      "id": "major-height",
      "metadata": {
        "colab": {
          "base_uri": "https://localhost:8080/"
        },
        "id": "major-height",
        "outputId": "c659d658-ccd1-42b6-e88d-7c461166786e"
      },
      "outputs": [
        {
          "output_type": "stream",
          "name": "stdout",
          "text": [
            "\n",
            "\u001b[1mTEST CASE #0\u001b[0m\n",
            "\n",
            "Input:\n",
            "{'nums': [19, 25, 29, 3, 5, 6, 7, 9, 11, 14]}\n",
            "\n",
            "Expected Output:\n",
            "3\n",
            "\n",
            "\n",
            "Actual Output:\n",
            "None\n",
            "\n",
            "Execution Time:\n",
            "0.003 ms\n",
            "\n",
            "Test Result:\n",
            "\u001b[91mFAILED\u001b[0m\n",
            "\n",
            "\n",
            "\u001b[1mTEST CASE #1\u001b[0m\n",
            "\n",
            "Input:\n",
            "{'nums': [7, 11, 19, 25, 29, 3, 5, 6]}\n",
            "\n",
            "Expected Output:\n",
            "5\n",
            "\n",
            "\n",
            "Actual Output:\n",
            "None\n",
            "\n",
            "Execution Time:\n",
            "0.002 ms\n",
            "\n",
            "Test Result:\n",
            "\u001b[91mFAILED\u001b[0m\n",
            "\n",
            "\n",
            "\u001b[1mTEST CASE #2\u001b[0m\n",
            "\n",
            "Input:\n",
            "{'nums': [3, 4, 5, 7, 9]}\n",
            "\n",
            "Expected Output:\n",
            "0\n",
            "\n",
            "\n",
            "Actual Output:\n",
            "None\n",
            "\n",
            "Execution Time:\n",
            "0.001 ms\n",
            "\n",
            "Test Result:\n",
            "\u001b[91mFAILED\u001b[0m\n",
            "\n",
            "\n",
            "\u001b[1mTEST CASE #3\u001b[0m\n",
            "\n",
            "Input:\n",
            "{'nums': [9, 3, 4, 5, 7]}\n",
            "\n",
            "Expected Output:\n",
            "1\n",
            "\n",
            "\n",
            "Actual Output:\n",
            "None\n",
            "\n",
            "Execution Time:\n",
            "0.002 ms\n",
            "\n",
            "Test Result:\n",
            "\u001b[91mFAILED\u001b[0m\n",
            "\n",
            "\n",
            "\u001b[1mTEST CASE #4\u001b[0m\n",
            "\n",
            "Input:\n",
            "{'nums': [9, 3, 4, 5, 7]}\n",
            "\n",
            "Expected Output:\n",
            "1\n",
            "\n",
            "\n",
            "Actual Output:\n",
            "None\n",
            "\n",
            "Execution Time:\n",
            "0.001 ms\n",
            "\n",
            "Test Result:\n",
            "\u001b[91mFAILED\u001b[0m\n",
            "\n",
            "\n",
            "\u001b[1mTEST CASE #5\u001b[0m\n",
            "\n",
            "Input:\n",
            "{'nums': [3, 4, 5, 7, 9]}\n",
            "\n",
            "Expected Output:\n",
            "0\n",
            "\n",
            "\n",
            "Actual Output:\n",
            "None\n",
            "\n",
            "Execution Time:\n",
            "0.001 ms\n",
            "\n",
            "Test Result:\n",
            "\u001b[91mFAILED\u001b[0m\n",
            "\n",
            "\n",
            "\u001b[1mTEST CASE #6\u001b[0m\n",
            "\n",
            "Input:\n",
            "{'nums': []}\n",
            "\n",
            "Expected Output:\n",
            "-1\n",
            "\n",
            "\n",
            "Actual Output:\n",
            "None\n",
            "\n",
            "Execution Time:\n",
            "0.002 ms\n",
            "\n",
            "Test Result:\n",
            "\u001b[91mFAILED\u001b[0m\n",
            "\n",
            "\n",
            "\u001b[1mTEST CASE #7\u001b[0m\n",
            "\n",
            "Input:\n",
            "{'nums': [3]}\n",
            "\n",
            "Expected Output:\n",
            "0\n",
            "\n",
            "\n",
            "Actual Output:\n",
            "None\n",
            "\n",
            "Execution Time:\n",
            "0.002 ms\n",
            "\n",
            "Test Result:\n",
            "\u001b[91mFAILED\u001b[0m\n",
            "\n",
            "\n",
            "\u001b[1mSUMMARY\u001b[0m\n",
            "\n",
            "TOTAL: 8, \u001b[92mPASSED\u001b[0m: 0, \u001b[91mFAILED\u001b[0m: 8\n"
          ]
        },
        {
          "output_type": "execute_result",
          "data": {
            "text/plain": [
              "[(None, False, 0.003),\n",
              " (None, False, 0.002),\n",
              " (None, False, 0.001),\n",
              " (None, False, 0.002),\n",
              " (None, False, 0.001),\n",
              " (None, False, 0.001),\n",
              " (None, False, 0.002),\n",
              " (None, False, 0.002)]"
            ]
          },
          "metadata": {},
          "execution_count": 70
        }
      ],
      "source": [
        "evaluate_test_cases(count_rotations, tests)"
      ]
    },
    {
      "cell_type": "markdown",
      "id": "former-letters",
      "metadata": {
        "id": "former-letters"
      },
      "source": [
        "Verify that all the test cases were evaluated. We expect them all to fail, since we haven't implemented the function yet.\n",
        "\n",
        "Let's save our work before continuing."
      ]
    },
    {
      "cell_type": "code",
      "execution_count": 42,
      "id": "characteristic-termination",
      "metadata": {
        "colab": {
          "base_uri": "https://localhost:8080/"
        },
        "id": "characteristic-termination",
        "outputId": "c8407714-4457-41cb-c5bb-74a2987f0936"
      },
      "outputs": [
        {
          "output_type": "stream",
          "name": "stdout",
          "text": [
            "[jovian] Detected Colab notebook...\u001b[0m\n",
            "[jovian] jovian.commit() is no longer required on Google Colab. If you ran this notebook from Jovian, \n",
            "then just save this file in Colab using Ctrl+S/Cmd+S and it will be updated on Jovian. \n",
            "Also, you can also delete this cell, it's no longer necessary.\u001b[0m\n"
          ]
        }
      ],
      "source": [
        "jovian.commit(project=project)"
      ]
    },
    {
      "cell_type": "markdown",
      "id": "falling-calgary",
      "metadata": {
        "id": "falling-calgary"
      },
      "source": [
        "### 3. Come up with a correct solution for the problem. State it in plain English.\n",
        "\n",
        "Our first goal should always be to come up with a _correct_ solution to the problem, which may not necessarily be the most _efficient_ solution. Try to think of a solution before you read further.\n",
        "\n",
        "Coming up with the correct solution is quite easy, and it's based on this insight: If a list of sorted numbers is rotated `k` times, then the smallest number in the list ends up at position `k` (counting from 0). Further, it is the only number in the list which is smaller than the number before it. Thus, we simply need to **check for each number in the list whether it is smaller than the number that comes before it** (if there is a number before it). Then, our answer i.e. the number of rotations is simply the position of this number is . If we cannot find such a number, then the list wasn't rotated at all.\n",
        "\n",
        "Example: In the list `[19, 25, 29, 3, 5, 6, 7, 9, 11, 14]`, the number `3` is the only number smaller than its predecessor. It occurs at the position `4` (counting from `0`), hence the array was rotated `4` times.\n",
        "\n",
        "\n",
        "We can use the *linear search* algorithm as a first attempt to solve this problem i.e. we can perform the check for every position one by one. But first, try describing the above solution in your own words, that make it clear to you.\n",
        "\n",
        "_**Q (Optional): Describe the linear search solution explained above problem in your own words.**_\n",
        "\n",
        "1. **check if the list is empty**\n",
        "2. **check if the list contains only one number**\n",
        "3. **check each number in the list (from index 1) whether it is smaller than the number that comes before it**\n",
        "4. **the output should be the position of the number that the number is smaller than the number that comes before it**\n",
        "\n",
        "(add more steps if required)\n",
        "\n",
        "\n",
        "Let's save and upload our work before continuing."
      ]
    },
    {
      "cell_type": "code",
      "execution_count": 71,
      "id": "seasonal-intro",
      "metadata": {
        "id": "seasonal-intro"
      },
      "outputs": [],
      "source": [
        "import jovian"
      ]
    },
    {
      "cell_type": "code",
      "execution_count": 72,
      "id": "divided-convertible",
      "metadata": {
        "colab": {
          "base_uri": "https://localhost:8080/"
        },
        "id": "divided-convertible",
        "outputId": "59b0bc6c-c4b4-43e2-9060-d1fa61b9d82f"
      },
      "outputs": [
        {
          "output_type": "stream",
          "name": "stdout",
          "text": [
            "[jovian] Detected Colab notebook...\u001b[0m\n",
            "[jovian] jovian.commit() is no longer required on Google Colab. If you ran this notebook from Jovian, \n",
            "then just save this file in Colab using Ctrl+S/Cmd+S and it will be updated on Jovian. \n",
            "Also, you can also delete this cell, it's no longer necessary.\u001b[0m\n"
          ]
        }
      ],
      "source": [
        "jovian.commit(project=project)"
      ]
    },
    {
      "cell_type": "markdown",
      "id": "future-narrative",
      "metadata": {
        "id": "future-narrative"
      },
      "source": [
        "###  4. Implement the solution and test it using example inputs. Fix bugs, if any.\n",
        "\n",
        "_**Q: Implement the solution described in step 3.**_"
      ]
    },
    {
      "cell_type": "code",
      "execution_count": 78,
      "id": "oriental-founder",
      "metadata": {
        "id": "oriental-founder"
      },
      "outputs": [],
      "source": [
        "def count_rotations_linear(nums):\n",
        "    position = 1                 # What is the intial value of position?\n",
        "\n",
        "    if not nums:\n",
        "        return -1\n",
        "\n",
        "    while position < len(nums):                     # When should the loop be terminated?\n",
        "\n",
        "        # Success criteria: check whether the number at the current position is smaller than the one before it\n",
        "        if nums[position] < nums[position-1]:   # How to perform the check?\n",
        "            return position\n",
        "\n",
        "        # Move to the next position\n",
        "        position += 1\n",
        "\n",
        "    return 0                     # What if none of the positions passed the check"
      ]
    },
    {
      "cell_type": "markdown",
      "id": "exempt-analysis",
      "metadata": {
        "id": "exempt-analysis"
      },
      "source": [
        "Let's test out the function with the first test case."
      ]
    },
    {
      "cell_type": "code",
      "execution_count": 76,
      "id": "acceptable-airline",
      "metadata": {
        "colab": {
          "base_uri": "https://localhost:8080/"
        },
        "id": "acceptable-airline",
        "outputId": "b43d2647-bb9f-49c0-9968-a7e8cb4605fe"
      },
      "outputs": [
        {
          "output_type": "stream",
          "name": "stdout",
          "text": [
            "\n",
            "Input:\n",
            "{'nums': [19, 25, 29, 3, 5, 6, 7, 9, 11, 14]}\n",
            "\n",
            "Expected Output:\n",
            "3\n",
            "\n",
            "\n",
            "Actual Output:\n",
            "3\n",
            "\n",
            "Execution Time:\n",
            "0.008 ms\n",
            "\n",
            "Test Result:\n",
            "\u001b[92mPASSED\u001b[0m\n",
            "\n"
          ]
        }
      ],
      "source": [
        "linear_search_result = evaluate_test_case(count_rotations_linear, test)"
      ]
    },
    {
      "cell_type": "markdown",
      "id": "organized-portfolio",
      "metadata": {
        "id": "organized-portfolio"
      },
      "source": [
        "Make sure your function passes the test. Fix bugs, if any.\n",
        "\n",
        "Let's test it out with all the test cases."
      ]
    },
    {
      "cell_type": "code",
      "execution_count": 79,
      "id": "cooperative-third",
      "metadata": {
        "colab": {
          "base_uri": "https://localhost:8080/"
        },
        "id": "cooperative-third",
        "outputId": "d109d30b-c277-4a77-c47e-c3d04cb5b938"
      },
      "outputs": [
        {
          "output_type": "stream",
          "name": "stdout",
          "text": [
            "\n",
            "\u001b[1mTEST CASE #0\u001b[0m\n",
            "\n",
            "Input:\n",
            "{'nums': [19, 25, 29, 3, 5, 6, 7, 9, 11, 14]}\n",
            "\n",
            "Expected Output:\n",
            "3\n",
            "\n",
            "\n",
            "Actual Output:\n",
            "3\n",
            "\n",
            "Execution Time:\n",
            "0.007 ms\n",
            "\n",
            "Test Result:\n",
            "\u001b[92mPASSED\u001b[0m\n",
            "\n",
            "\n",
            "\u001b[1mTEST CASE #1\u001b[0m\n",
            "\n",
            "Input:\n",
            "{'nums': [7, 11, 19, 25, 29, 3, 5, 6]}\n",
            "\n",
            "Expected Output:\n",
            "5\n",
            "\n",
            "\n",
            "Actual Output:\n",
            "5\n",
            "\n",
            "Execution Time:\n",
            "0.003 ms\n",
            "\n",
            "Test Result:\n",
            "\u001b[92mPASSED\u001b[0m\n",
            "\n",
            "\n",
            "\u001b[1mTEST CASE #2\u001b[0m\n",
            "\n",
            "Input:\n",
            "{'nums': [3, 4, 5, 7, 9]}\n",
            "\n",
            "Expected Output:\n",
            "0\n",
            "\n",
            "\n",
            "Actual Output:\n",
            "0\n",
            "\n",
            "Execution Time:\n",
            "0.002 ms\n",
            "\n",
            "Test Result:\n",
            "\u001b[92mPASSED\u001b[0m\n",
            "\n",
            "\n",
            "\u001b[1mTEST CASE #3\u001b[0m\n",
            "\n",
            "Input:\n",
            "{'nums': [9, 3, 4, 5, 7]}\n",
            "\n",
            "Expected Output:\n",
            "1\n",
            "\n",
            "\n",
            "Actual Output:\n",
            "1\n",
            "\n",
            "Execution Time:\n",
            "0.002 ms\n",
            "\n",
            "Test Result:\n",
            "\u001b[92mPASSED\u001b[0m\n",
            "\n",
            "\n",
            "\u001b[1mTEST CASE #4\u001b[0m\n",
            "\n",
            "Input:\n",
            "{'nums': [9, 3, 4, 5, 7]}\n",
            "\n",
            "Expected Output:\n",
            "1\n",
            "\n",
            "\n",
            "Actual Output:\n",
            "1\n",
            "\n",
            "Execution Time:\n",
            "0.001 ms\n",
            "\n",
            "Test Result:\n",
            "\u001b[92mPASSED\u001b[0m\n",
            "\n",
            "\n",
            "\u001b[1mTEST CASE #5\u001b[0m\n",
            "\n",
            "Input:\n",
            "{'nums': [3, 4, 5, 7, 9]}\n",
            "\n",
            "Expected Output:\n",
            "0\n",
            "\n",
            "\n",
            "Actual Output:\n",
            "0\n",
            "\n",
            "Execution Time:\n",
            "0.002 ms\n",
            "\n",
            "Test Result:\n",
            "\u001b[92mPASSED\u001b[0m\n",
            "\n",
            "\n",
            "\u001b[1mTEST CASE #6\u001b[0m\n",
            "\n",
            "Input:\n",
            "{'nums': []}\n",
            "\n",
            "Expected Output:\n",
            "-1\n",
            "\n",
            "\n",
            "Actual Output:\n",
            "-1\n",
            "\n",
            "Execution Time:\n",
            "0.001 ms\n",
            "\n",
            "Test Result:\n",
            "\u001b[92mPASSED\u001b[0m\n",
            "\n",
            "\n",
            "\u001b[1mTEST CASE #7\u001b[0m\n",
            "\n",
            "Input:\n",
            "{'nums': [3]}\n",
            "\n",
            "Expected Output:\n",
            "0\n",
            "\n",
            "\n",
            "Actual Output:\n",
            "0\n",
            "\n",
            "Execution Time:\n",
            "0.002 ms\n",
            "\n",
            "Test Result:\n",
            "\u001b[92mPASSED\u001b[0m\n",
            "\n",
            "\n",
            "\u001b[1mSUMMARY\u001b[0m\n",
            "\n",
            "TOTAL: 8, \u001b[92mPASSED\u001b[0m: 8, \u001b[91mFAILED\u001b[0m: 0\n"
          ]
        }
      ],
      "source": [
        "linear_search_results = evaluate_test_cases(count_rotations_linear, tests)"
      ]
    },
    {
      "cell_type": "markdown",
      "id": "statistical-lending",
      "metadata": {
        "id": "statistical-lending"
      },
      "source": [
        "Once again, make sure all the tests pass. Fix errors and bugs, if any.\n",
        "\n",
        "**NOTE**: During evaluation, your submission will be tested against a much larger set of test cases (not listed here). Make sure to test your solution thoroughly.\n",
        "\n",
        "If you are stuck, you can ask for help on the community forum: https://jovian.ai/forum/c/data-structures-and-algorithms-in-python/assignment-1/87 . You can get help with errors or ask for hints, but **please don't ask for OR share the full working answer code** on the forum."
      ]
    },
    {
      "cell_type": "markdown",
      "id": "economic-spray",
      "metadata": {
        "id": "economic-spray"
      },
      "source": [
        "### 5. Analyze the algorithm's complexity and identify inefficiencies, if any.\n",
        "\n",
        "Count the maximum number of iterations it may take for the algorithm to return the result.\n",
        "\n",
        "_**Q: What is the worst-case complexity (running time) of the algorithm expressed in the Big O Notation? Assume that the size of the list is `N` (uppercase).**_\n"
      ]
    },
    {
      "cell_type": "code",
      "execution_count": null,
      "id": "attended-indonesia",
      "metadata": {
        "id": "attended-indonesia"
      },
      "outputs": [],
      "source": [
        "linear_search_complexity = \"N-1\""
      ]
    },
    {
      "cell_type": "markdown",
      "id": "pregnant-steal",
      "metadata": {
        "id": "pregnant-steal"
      },
      "source": [
        "### 6. Apply the right technique to overcome the inefficiency. Repeat steps 3 to 6.\n",
        "\n",
        "As you might have guessed, we can apply _Binary Search_ to solve this problem. The key question we need to answer in binary search is: Given the middle element, how to decide if it is the answer (smallest number), or whether the answer lies to the left or right of it.\n",
        "\n",
        "If the middle element is smaller than its predecessor, then it is the answer. However, if it isn't, this check is not sufficient to determine whether the answer lies to the left or the right of it. Consider the following examples.\n",
        "\n",
        "`[7, 8, 1, 3, 4, 5, 6]` (answer lies to the left of the middle element)\n",
        "\n",
        "`[1, 2, 3, 4, 5, -1, 0]` (answer lies to the right of the middle element)\n",
        "\n",
        "Here's a check that will help us determine if the answer lies to the left or the right: _If the middle element of the list is smaller than the last element of the range, then the answer lies to the left of it. Otherwise, the answer lies to the right._\n",
        "\n",
        "Do you see why this strategy works?\n"
      ]
    },
    {
      "cell_type": "markdown",
      "id": "static-finder",
      "metadata": {
        "id": "static-finder"
      },
      "source": [
        "### 7. Come up with a correct solution for the problem. State it in plain English.\n",
        "\n",
        "Before we implement the solution, it's useful to describe it in a way that makes most sense to you. In a coding interview, you will almost certainly be asked to describe your approach before you start writing code.\n",
        "\n",
        "_**Q (Optional): Describe the binary search solution explained above problem in your own words.**_\n",
        "\n",
        "1. **compare the lo and hi, if the lo smaller than the hi, means there has not rotation, return 0**\n",
        "2. **if nums(lo) > nums(hi), then mid == (lo+hi) // 2**\n",
        "3. **if the nums(mid) larger than the nums(lo), then the lo should plus one, if the nums(mid) smaller than the nums(lo), then the hi should minus one**\n",
        "4. **if the mid larger than both left and right, then return mid plus one**\n",
        "\n",
        "(add more steps if required)\n",
        "\n",
        "Let's save and upload our work before continuing."
      ]
    },
    {
      "cell_type": "code",
      "execution_count": 80,
      "id": "chronic-notebook",
      "metadata": {
        "colab": {
          "base_uri": "https://localhost:8080/"
        },
        "id": "chronic-notebook",
        "outputId": "3505b9dd-3dcd-4950-f541-2c38f67830dd"
      },
      "outputs": [
        {
          "output_type": "stream",
          "name": "stdout",
          "text": [
            "[jovian] Detected Colab notebook...\u001b[0m\n",
            "[jovian] jovian.commit() is no longer required on Google Colab. If you ran this notebook from Jovian, \n",
            "then just save this file in Colab using Ctrl+S/Cmd+S and it will be updated on Jovian. \n",
            "Also, you can also delete this cell, it's no longer necessary.\u001b[0m\n"
          ]
        }
      ],
      "source": [
        "jovian.commit(project=project)"
      ]
    },
    {
      "cell_type": "markdown",
      "id": "recorded-directive",
      "metadata": {
        "id": "recorded-directive"
      },
      "source": [
        "### 8. Implement the solution and test it using example inputs. Fix bugs, if any.\n",
        "\n",
        "*__Q: Implement the binary search solution described in step 7.__*\n",
        "\n",
        "If you are stuck, you can ask for help on the community forum: https://jovian.ai/forum/c/data-structures-and-algorithms-in-python/assignment-1/87 . You can get help with errors or ask for hints, but **please don't ask for OR share the full working answer code** on the forum."
      ]
    },
    {
      "cell_type": "code",
      "execution_count": 99,
      "id": "complete-thing",
      "metadata": {
        "id": "complete-thing"
      },
      "outputs": [],
      "source": [
        "def count_rotations_binary(nums):\n",
        "    lo = 0\n",
        "    hi = len(nums)-1\n",
        "\n",
        "    if len(nums) == 0:\n",
        "      return -1\n",
        "\n",
        "    while lo < hi:\n",
        "        mid = (lo + hi) // 2\n",
        "        mid_number = nums[mid]\n",
        "\n",
        "        # Uncomment the next line for logging the values and fixing errors.\n",
        "        print(\"lo:\", lo, \", hi:\", hi, \", mid:\", mid, \", mid_number:\", mid_number)\n",
        "\n",
        "        if mid > 0 and nums[mid] < nums[mid - 1]:\n",
        "            # The middle position is the answer\n",
        "            return mid\n",
        "\n",
        "        elif nums[mid] < nums[lo]:\n",
        "            # Answer lies in the left half\n",
        "            hi = mid\n",
        "\n",
        "        else:\n",
        "            # Answer lies in the right half\n",
        "            lo = mid + 1\n",
        "\n",
        "    return 0"
      ]
    },
    {
      "cell_type": "markdown",
      "id": "parliamentary-element",
      "metadata": {
        "id": "parliamentary-element"
      },
      "source": [
        "Let's test out the function with the first test case."
      ]
    },
    {
      "cell_type": "code",
      "execution_count": 96,
      "id": "assigned-worth",
      "metadata": {
        "colab": {
          "base_uri": "https://localhost:8080/"
        },
        "id": "assigned-worth",
        "outputId": "7c46b1fb-c440-4a34-83b8-ea4f1bab29a1"
      },
      "outputs": [
        {
          "output_type": "stream",
          "name": "stdout",
          "text": [
            "\n",
            "Input:\n",
            "{'nums': [19, 25, 29, 3, 5, 6, 7, 9, 11, 14]}\n",
            "\n",
            "Expected Output:\n",
            "3\n",
            "\n",
            "lo: 0 , hi: 9 , mid: 4 , mid_number: 5\n",
            "lo: 0 , hi: 4 , mid: 2 , mid_number: 29\n",
            "lo: 3 , hi: 4 , mid: 3 , mid_number: 3\n",
            "\n",
            "Actual Output:\n",
            "3\n",
            "\n",
            "Execution Time:\n",
            "0.092 ms\n",
            "\n",
            "Test Result:\n",
            "\u001b[92mPASSED\u001b[0m\n",
            "\n"
          ]
        }
      ],
      "source": [
        "binary_search_result = evaluate_test_case(count_rotations_binary, test)"
      ]
    },
    {
      "cell_type": "markdown",
      "id": "noted-planning",
      "metadata": {
        "id": "noted-planning"
      },
      "source": [
        "Make sure your function passes the test. Fix bugs, if any.\n",
        "\n",
        "Let's test it out with all the test cases."
      ]
    },
    {
      "cell_type": "code",
      "execution_count": 100,
      "id": "operational-symposium",
      "metadata": {
        "colab": {
          "base_uri": "https://localhost:8080/"
        },
        "id": "operational-symposium",
        "outputId": "c29d4a57-cea1-431d-fde2-ee75ed9d392f"
      },
      "outputs": [
        {
          "output_type": "stream",
          "name": "stdout",
          "text": [
            "\n",
            "\u001b[1mTEST CASE #0\u001b[0m\n",
            "lo: 0 , hi: 9 , mid: 4 , mid_number: 5\n",
            "lo: 0 , hi: 4 , mid: 2 , mid_number: 29\n",
            "lo: 3 , hi: 4 , mid: 3 , mid_number: 3\n",
            "\n",
            "Input:\n",
            "{'nums': [19, 25, 29, 3, 5, 6, 7, 9, 11, 14]}\n",
            "\n",
            "Expected Output:\n",
            "3\n",
            "\n",
            "\n",
            "Actual Output:\n",
            "3\n",
            "\n",
            "Execution Time:\n",
            "0.15 ms\n",
            "\n",
            "Test Result:\n",
            "\u001b[92mPASSED\u001b[0m\n",
            "\n",
            "\n",
            "\u001b[1mTEST CASE #1\u001b[0m\n",
            "lo: 0 , hi: 7 , mid: 3 , mid_number: 25\n",
            "lo: 4 , hi: 7 , mid: 5 , mid_number: 3\n",
            "\n",
            "Input:\n",
            "{'nums': [7, 11, 19, 25, 29, 3, 5, 6]}\n",
            "\n",
            "Expected Output:\n",
            "5\n",
            "\n",
            "\n",
            "Actual Output:\n",
            "5\n",
            "\n",
            "Execution Time:\n",
            "0.074 ms\n",
            "\n",
            "Test Result:\n",
            "\u001b[92mPASSED\u001b[0m\n",
            "\n",
            "\n",
            "\u001b[1mTEST CASE #2\u001b[0m\n",
            "lo: 0 , hi: 4 , mid: 2 , mid_number: 5\n",
            "lo: 3 , hi: 4 , mid: 3 , mid_number: 7\n",
            "\n",
            "Input:\n",
            "{'nums': [3, 4, 5, 7, 9]}\n",
            "\n",
            "Expected Output:\n",
            "0\n",
            "\n",
            "\n",
            "Actual Output:\n",
            "0\n",
            "\n",
            "Execution Time:\n",
            "0.041 ms\n",
            "\n",
            "Test Result:\n",
            "\u001b[92mPASSED\u001b[0m\n",
            "\n",
            "\n",
            "\u001b[1mTEST CASE #3\u001b[0m\n",
            "lo: 0 , hi: 4 , mid: 2 , mid_number: 4\n",
            "lo: 0 , hi: 2 , mid: 1 , mid_number: 3\n",
            "\n",
            "Input:\n",
            "{'nums': [9, 3, 4, 5, 7]}\n",
            "\n",
            "Expected Output:\n",
            "1\n",
            "\n",
            "\n",
            "Actual Output:\n",
            "1\n",
            "\n",
            "Execution Time:\n",
            "0.04 ms\n",
            "\n",
            "Test Result:\n",
            "\u001b[92mPASSED\u001b[0m\n",
            "\n",
            "\n",
            "\u001b[1mTEST CASE #4\u001b[0m\n",
            "lo: 0 , hi: 4 , mid: 2 , mid_number: 4\n",
            "lo: 0 , hi: 2 , mid: 1 , mid_number: 3\n",
            "\n",
            "Input:\n",
            "{'nums': [9, 3, 4, 5, 7]}\n",
            "\n",
            "Expected Output:\n",
            "1\n",
            "\n",
            "\n",
            "Actual Output:\n",
            "1\n",
            "\n",
            "Execution Time:\n",
            "0.039 ms\n",
            "\n",
            "Test Result:\n",
            "\u001b[92mPASSED\u001b[0m\n",
            "\n",
            "\n",
            "\u001b[1mTEST CASE #5\u001b[0m\n",
            "lo: 0 , hi: 4 , mid: 2 , mid_number: 5\n",
            "lo: 3 , hi: 4 , mid: 3 , mid_number: 7\n",
            "\n",
            "Input:\n",
            "{'nums': [3, 4, 5, 7, 9]}\n",
            "\n",
            "Expected Output:\n",
            "0\n",
            "\n",
            "\n",
            "Actual Output:\n",
            "0\n",
            "\n",
            "Execution Time:\n",
            "0.039 ms\n",
            "\n",
            "Test Result:\n",
            "\u001b[92mPASSED\u001b[0m\n",
            "\n",
            "\n",
            "\u001b[1mTEST CASE #6\u001b[0m\n",
            "\n",
            "Input:\n",
            "{'nums': []}\n",
            "\n",
            "Expected Output:\n",
            "-1\n",
            "\n",
            "\n",
            "Actual Output:\n",
            "-1\n",
            "\n",
            "Execution Time:\n",
            "0.002 ms\n",
            "\n",
            "Test Result:\n",
            "\u001b[92mPASSED\u001b[0m\n",
            "\n",
            "\n",
            "\u001b[1mTEST CASE #7\u001b[0m\n",
            "\n",
            "Input:\n",
            "{'nums': [3]}\n",
            "\n",
            "Expected Output:\n",
            "0\n",
            "\n",
            "\n",
            "Actual Output:\n",
            "0\n",
            "\n",
            "Execution Time:\n",
            "0.002 ms\n",
            "\n",
            "Test Result:\n",
            "\u001b[92mPASSED\u001b[0m\n",
            "\n",
            "\n",
            "\u001b[1mSUMMARY\u001b[0m\n",
            "\n",
            "TOTAL: 8, \u001b[92mPASSED\u001b[0m: 8, \u001b[91mFAILED\u001b[0m: 0\n"
          ]
        }
      ],
      "source": [
        "binary_search_results = evaluate_test_cases(count_rotations_binary, tests)"
      ]
    },
    {
      "cell_type": "markdown",
      "id": "normal-gregory",
      "metadata": {
        "id": "normal-gregory"
      },
      "source": [
        "Once again, make sure all the tests pass. Fix errors and bugs, if any.\n",
        "\n",
        "**NOTE**: During evaluation, your submission will be tested against a much larger set of test cases (not listed here). Make sure to test your solution thoroughly.\n",
        "\n",
        "If you are stuck, you can ask for help on the community forum: https://jovian.ai/forum/c/data-structures-and-algorithms-in-python/assignment-1/87 . You can get help with errors or ask for hints, but **please don't ask for OR share the full working answer code** on the forum.\n",
        "\n",
        "Let's save our work before continuing."
      ]
    },
    {
      "cell_type": "code",
      "execution_count": 101,
      "id": "amateur-stomach",
      "metadata": {
        "colab": {
          "base_uri": "https://localhost:8080/"
        },
        "id": "amateur-stomach",
        "outputId": "2053e5e9-c2db-40b1-8aaf-a1d7b3aac472"
      },
      "outputs": [
        {
          "output_type": "stream",
          "name": "stdout",
          "text": [
            "[jovian] Detected Colab notebook...\u001b[0m\n",
            "[jovian] jovian.commit() is no longer required on Google Colab. If you ran this notebook from Jovian, \n",
            "then just save this file in Colab using Ctrl+S/Cmd+S and it will be updated on Jovian. \n",
            "Also, you can also delete this cell, it's no longer necessary.\u001b[0m\n"
          ]
        }
      ],
      "source": [
        "jovian.commit(project=project)"
      ]
    },
    {
      "cell_type": "markdown",
      "id": "honey-cosmetic",
      "metadata": {
        "id": "honey-cosmetic"
      },
      "source": [
        "### 9. Analyze the algorithm's complexity and identify inefficiencies, if any.\n",
        "\n",
        "_**Q: What is the worst-case complexity (running time) of the algorithm expressed in the Big O Notation? Assume that the size of the list is `N` (uppercase).**_\n",
        "\n",
        "Hint: Count the maximum number of iterations it may take for the algorithm to return the result."
      ]
    },
    {
      "cell_type": "code",
      "execution_count": 102,
      "id": "negative-metallic",
      "metadata": {
        "id": "negative-metallic"
      },
      "outputs": [],
      "source": [
        "binary_search_complexity = \"N-1\""
      ]
    },
    {
      "cell_type": "markdown",
      "id": "round-lounge",
      "metadata": {
        "id": "round-lounge"
      },
      "source": [
        "Is binary search the optimal solution to the problem? How can you prove it? Discuss in the forums.\n",
        "\n",
        "Let's save our work before continuing."
      ]
    },
    {
      "cell_type": "code",
      "execution_count": 103,
      "id": "smooth-delicious",
      "metadata": {
        "id": "smooth-delicious"
      },
      "outputs": [],
      "source": [
        "import jovian"
      ]
    },
    {
      "cell_type": "code",
      "execution_count": 104,
      "id": "graphic-separation",
      "metadata": {
        "colab": {
          "base_uri": "https://localhost:8080/"
        },
        "id": "graphic-separation",
        "outputId": "2bcd3d74-1b18-42da-c04e-b3df5ee5d6e8"
      },
      "outputs": [
        {
          "output_type": "stream",
          "name": "stdout",
          "text": [
            "[jovian] Detected Colab notebook...\u001b[0m\n",
            "[jovian] jovian.commit() is no longer required on Google Colab. If you ran this notebook from Jovian, \n",
            "then just save this file in Colab using Ctrl+S/Cmd+S and it will be updated on Jovian. \n",
            "Also, you can also delete this cell, it's no longer necessary.\u001b[0m\n"
          ]
        }
      ],
      "source": [
        "jovian.commit()"
      ]
    },
    {
      "cell_type": "markdown",
      "id": "nominated-orleans",
      "metadata": {
        "id": "nominated-orleans"
      },
      "source": [
        "## Make a Submission\n",
        "\n",
        "To make a submission, visit the [assignment page](https://jovian.ai/learn/data-structures-and-algorithms-in-python/assignment/assignment-1-binary-search-practice) and submit the link to your notebook.\n",
        "\n",
        "You can also make a submission by executing the following statement:"
      ]
    },
    {
      "cell_type": "code",
      "execution_count": 105,
      "id": "sticky-motel",
      "metadata": {
        "colab": {
          "base_uri": "https://localhost:8080/"
        },
        "id": "sticky-motel",
        "outputId": "83abde68-2e5e-445f-ea11-9650d1ae1744"
      },
      "outputs": [
        {
          "output_type": "stream",
          "name": "stdout",
          "text": [
            "[jovian] Detected Colab notebook...\u001b[0m\n",
            "[jovian] jovian.commit() is no longer required on Google Colab. If you ran this notebook from Jovian, \n",
            "then just save this file in Colab using Ctrl+S/Cmd+S and it will be updated on Jovian. \n",
            "Also, you can also delete this cell, it's no longer necessary.\u001b[0m\n"
          ]
        }
      ],
      "source": [
        "jovian.submit(assignment=\"pythondsa-assignment1\")"
      ]
    },
    {
      "cell_type": "markdown",
      "id": "elder-cement",
      "metadata": {
        "id": "elder-cement"
      },
      "source": [
        "You can view your previous submissions under the \"Submission History\" section of the [assignment page](https://jovian.ai/learn/data-structures-and-algorithms-in-python/assignment/assignment-1-binary-search-practice). Only your last sumission will be considered for evaluation."
      ]
    },
    {
      "cell_type": "markdown",
      "id": "civilian-tyler",
      "metadata": {
        "id": "civilian-tyler"
      },
      "source": [
        "## Bonus Questions\n",
        "\n",
        "The questions in this section are optional, and will not affect your grade. Discuss the bonus questions here: https://jovian.ai/forum/t/optional-bonus-questions-discussion-assignment-1/15486\n",
        "\n",
        "You can also copy over the bonus questions to a new notebook to share your solution on the forum without sharing your assignment notebook. Duplicate this template: https://jovian.ai/aakashns/python-problem-solving-template\n",
        "\n",
        "\n",
        "### Optional Bonus 1: Using the Generic Binary Search Algorithm\n",
        "\n",
        "The `jovian` library provides a generic implementation of the binary search algorithm."
      ]
    },
    {
      "cell_type": "code",
      "execution_count": 106,
      "id": "severe-personal",
      "metadata": {
        "id": "severe-personal"
      },
      "outputs": [],
      "source": [
        "from jovian.pythondsa import binary_search"
      ]
    },
    {
      "cell_type": "markdown",
      "id": "positive-vessel",
      "metadata": {
        "id": "positive-vessel"
      },
      "source": [
        "You can view it's source code using the `??` command in Jupyter or on [the Github repository](https://github.com/JovianML/jovian-py/blob/master/jovian/pythondsa/__init__.py#L68) for the `jovian` library."
      ]
    },
    {
      "cell_type": "code",
      "execution_count": 107,
      "id": "protecting-brave",
      "metadata": {
        "id": "protecting-brave"
      },
      "outputs": [],
      "source": [
        "??binary_search"
      ]
    },
    {
      "cell_type": "markdown",
      "id": "direct-empty",
      "metadata": {
        "id": "direct-empty"
      },
      "source": [
        "_**Q (Optional): Implement the `count_rotations` function using the generic `binary_search` function.**_\n",
        "\n",
        "Hint: You'll need to define the condition which returns `\"found\"`, `\"left\"` or `\"right\"` by performing the appropriate check on the middle position in the range."
      ]
    },
    {
      "cell_type": "code",
      "execution_count": 122,
      "id": "amino-feedback",
      "metadata": {
        "id": "amino-feedback"
      },
      "outputs": [],
      "source": [
        "def count_rotations_generic(nums):\n",
        "  if not nums:\n",
        "    return -1\n",
        "  if nums[0] <= nums[-1]:\n",
        "    return 0\n",
        "  def condition(mid):\n",
        "      if mid>0 and nums[mid] < nums[mid - 1]:\n",
        "        return \"found\"\n",
        "      elif nums[mid] < nums[0]:\n",
        "        return \"left\"\n",
        "      else:\n",
        "        return \"right\"\n",
        "\n",
        "  return binary_search(0, len(nums)-1, condition)"
      ]
    },
    {
      "cell_type": "code",
      "execution_count": 109,
      "id": "eastern-raising",
      "metadata": {
        "colab": {
          "base_uri": "https://localhost:8080/"
        },
        "id": "eastern-raising",
        "outputId": "2cd8abfa-46c3-4ec6-8466-0e00cdd1947b"
      },
      "outputs": [
        {
          "output_type": "stream",
          "name": "stdout",
          "text": [
            "\n",
            "Input:\n",
            "{'nums': [19, 25, 29, 3, 5, 6, 7, 9, 11, 14]}\n",
            "\n",
            "Expected Output:\n",
            "3\n",
            "\n",
            "\n",
            "Actual Output:\n",
            "3\n",
            "\n",
            "Execution Time:\n",
            "0.014 ms\n",
            "\n",
            "Test Result:\n",
            "\u001b[92mPASSED\u001b[0m\n",
            "\n"
          ]
        },
        {
          "output_type": "execute_result",
          "data": {
            "text/plain": [
              "(3, True, 0.014)"
            ]
          },
          "metadata": {},
          "execution_count": 109
        }
      ],
      "source": [
        "evaluate_test_case(count_rotations_generic, test)"
      ]
    },
    {
      "cell_type": "code",
      "execution_count": 123,
      "id": "failing-monitoring",
      "metadata": {
        "colab": {
          "base_uri": "https://localhost:8080/"
        },
        "id": "failing-monitoring",
        "outputId": "a7c16509-9df9-488d-f2aa-42eb8a5aee3c"
      },
      "outputs": [
        {
          "output_type": "stream",
          "name": "stdout",
          "text": [
            "\n",
            "\u001b[1mTEST CASE #0\u001b[0m\n",
            "\n",
            "Input:\n",
            "{'nums': [19, 25, 29, 3, 5, 6, 7, 9, 11, 14]}\n",
            "\n",
            "Expected Output:\n",
            "3\n",
            "\n",
            "\n",
            "Actual Output:\n",
            "3\n",
            "\n",
            "Execution Time:\n",
            "0.014 ms\n",
            "\n",
            "Test Result:\n",
            "\u001b[92mPASSED\u001b[0m\n",
            "\n",
            "\n",
            "\u001b[1mTEST CASE #1\u001b[0m\n",
            "\n",
            "Input:\n",
            "{'nums': [7, 11, 19, 25, 29, 3, 5, 6]}\n",
            "\n",
            "Expected Output:\n",
            "5\n",
            "\n",
            "\n",
            "Actual Output:\n",
            "5\n",
            "\n",
            "Execution Time:\n",
            "0.006 ms\n",
            "\n",
            "Test Result:\n",
            "\u001b[92mPASSED\u001b[0m\n",
            "\n",
            "\n",
            "\u001b[1mTEST CASE #2\u001b[0m\n",
            "\n",
            "Input:\n",
            "{'nums': [3, 4, 5, 7, 9]}\n",
            "\n",
            "Expected Output:\n",
            "0\n",
            "\n",
            "\n",
            "Actual Output:\n",
            "0\n",
            "\n",
            "Execution Time:\n",
            "0.002 ms\n",
            "\n",
            "Test Result:\n",
            "\u001b[92mPASSED\u001b[0m\n",
            "\n",
            "\n",
            "\u001b[1mTEST CASE #3\u001b[0m\n",
            "\n",
            "Input:\n",
            "{'nums': [9, 3, 4, 5, 7]}\n",
            "\n",
            "Expected Output:\n",
            "1\n",
            "\n",
            "\n",
            "Actual Output:\n",
            "1\n",
            "\n",
            "Execution Time:\n",
            "0.004 ms\n",
            "\n",
            "Test Result:\n",
            "\u001b[92mPASSED\u001b[0m\n",
            "\n",
            "\n",
            "\u001b[1mTEST CASE #4\u001b[0m\n",
            "\n",
            "Input:\n",
            "{'nums': [9, 3, 4, 5, 7]}\n",
            "\n",
            "Expected Output:\n",
            "1\n",
            "\n",
            "\n",
            "Actual Output:\n",
            "1\n",
            "\n",
            "Execution Time:\n",
            "0.002 ms\n",
            "\n",
            "Test Result:\n",
            "\u001b[92mPASSED\u001b[0m\n",
            "\n",
            "\n",
            "\u001b[1mTEST CASE #5\u001b[0m\n",
            "\n",
            "Input:\n",
            "{'nums': [3, 4, 5, 7, 9]}\n",
            "\n",
            "Expected Output:\n",
            "0\n",
            "\n",
            "\n",
            "Actual Output:\n",
            "0\n",
            "\n",
            "Execution Time:\n",
            "0.002 ms\n",
            "\n",
            "Test Result:\n",
            "\u001b[92mPASSED\u001b[0m\n",
            "\n",
            "\n",
            "\u001b[1mTEST CASE #6\u001b[0m\n",
            "\n",
            "Input:\n",
            "{'nums': []}\n",
            "\n",
            "Expected Output:\n",
            "-1\n",
            "\n",
            "\n",
            "Actual Output:\n",
            "-1\n",
            "\n",
            "Execution Time:\n",
            "0.002 ms\n",
            "\n",
            "Test Result:\n",
            "\u001b[92mPASSED\u001b[0m\n",
            "\n",
            "\n",
            "\u001b[1mTEST CASE #7\u001b[0m\n",
            "\n",
            "Input:\n",
            "{'nums': [3]}\n",
            "\n",
            "Expected Output:\n",
            "0\n",
            "\n",
            "\n",
            "Actual Output:\n",
            "0\n",
            "\n",
            "Execution Time:\n",
            "0.002 ms\n",
            "\n",
            "Test Result:\n",
            "\u001b[92mPASSED\u001b[0m\n",
            "\n",
            "\n",
            "\u001b[1mSUMMARY\u001b[0m\n",
            "\n",
            "TOTAL: 8, \u001b[92mPASSED\u001b[0m: 8, \u001b[91mFAILED\u001b[0m: 0\n"
          ]
        },
        {
          "output_type": "execute_result",
          "data": {
            "text/plain": [
              "[(3, True, 0.014),\n",
              " (5, True, 0.006),\n",
              " (0, True, 0.002),\n",
              " (1, True, 0.004),\n",
              " (1, True, 0.002),\n",
              " (0, True, 0.002),\n",
              " (-1, True, 0.002),\n",
              " (0, True, 0.002)]"
            ]
          },
          "metadata": {},
          "execution_count": 123
        }
      ],
      "source": [
        "evaluate_test_cases(count_rotations_generic, tests)"
      ]
    },
    {
      "cell_type": "code",
      "execution_count": 124,
      "id": "closed-monday",
      "metadata": {
        "colab": {
          "base_uri": "https://localhost:8080/"
        },
        "id": "closed-monday",
        "outputId": "f2339b6c-b065-4e70-9d07-698db1ca758d"
      },
      "outputs": [
        {
          "output_type": "stream",
          "name": "stdout",
          "text": [
            "[jovian] Detected Colab notebook...\u001b[0m\n",
            "[jovian] jovian.commit() is no longer required on Google Colab. If you ran this notebook from Jovian, \n",
            "then just save this file in Colab using Ctrl+S/Cmd+S and it will be updated on Jovian. \n",
            "Also, you can also delete this cell, it's no longer necessary.\u001b[0m\n"
          ]
        }
      ],
      "source": [
        "jovian.commit()"
      ]
    },
    {
      "cell_type": "markdown",
      "id": "realistic-assessment",
      "metadata": {
        "id": "realistic-assessment"
      },
      "source": [
        "Discuss your solution on the forum: https://jovian.ai/forum/c/data-structures-and-algorithms-in-python/assignment-1/87"
      ]
    },
    {
      "cell_type": "markdown",
      "id": "naughty-spotlight",
      "metadata": {
        "id": "naughty-spotlight"
      },
      "source": [
        "### Optional Bonus 2: Handling repeating numbers\n",
        "\n",
        "So far we've assumed that the numbers in the list are unique. What if the numbers can repeat? E.g. `[5, 6, 6, 9, 9, 9, 0, 0, 2, 3, 3, 3, 3, 4, 4]`. Can you modify your solution to handle this special case?\n",
        "\n",
        "\n",
        "_**Q (Optional): Create additional test cases where the list can contain repeating numbers**_"
      ]
    },
    {
      "cell_type": "code",
      "execution_count": 164,
      "id": "designed-stationery",
      "metadata": {
        "id": "designed-stationery"
      },
      "outputs": [],
      "source": [
        "extended_tests = list(tests)"
      ]
    },
    {
      "cell_type": "code",
      "execution_count": 165,
      "id": "reflected-backup",
      "metadata": {
        "id": "reflected-backup"
      },
      "outputs": [],
      "source": [
        "extended_tests.append({\n",
        "    'input': {\n",
        "        'nums' : [5, 6, 6, 9, 9, 9, 0, 0, 2, 3, 3, 3, 3, 4, 4]\n",
        "        },\n",
        "    'output': 6\n",
        "})"
      ]
    },
    {
      "cell_type": "code",
      "execution_count": 166,
      "id": "rental-specific",
      "metadata": {
        "id": "rental-specific"
      },
      "outputs": [],
      "source": [
        "extended_tests.append({\n",
        "    'input': {\n",
        "        'nums' : [6, 6]\n",
        "        },\n",
        "    'output': 0\n",
        "})"
      ]
    },
    {
      "cell_type": "code",
      "execution_count": 167,
      "id": "social-baker",
      "metadata": {
        "id": "social-baker"
      },
      "outputs": [],
      "source": [
        "extended_tests.append({\n",
        "    'input': {\n",
        "        'nums' : [4, 6, 6, 9, 9, 9, 0, 0, 2, 3, 3, 3, 3, 4, 4]\n",
        "        },\n",
        "    'output': 6\n",
        "})"
      ]
    },
    {
      "cell_type": "code",
      "execution_count": 162,
      "id": "finnish-sudan",
      "metadata": {
        "colab": {
          "base_uri": "https://localhost:8080/"
        },
        "id": "finnish-sudan",
        "outputId": "d31d62f4-3426-40be-a0cf-5fff6f37770e"
      },
      "outputs": [
        {
          "output_type": "stream",
          "name": "stdout",
          "text": [
            "[jovian] Detected Colab notebook...\u001b[0m\n",
            "[jovian] jovian.commit() is no longer required on Google Colab. If you ran this notebook from Jovian, \n",
            "then just save this file in Colab using Ctrl+S/Cmd+S and it will be updated on Jovian. \n",
            "Also, you can also delete this cell, it's no longer necessary.\u001b[0m\n"
          ]
        }
      ],
      "source": [
        "jovian.commit()"
      ]
    },
    {
      "cell_type": "markdown",
      "id": "freelance-kinase",
      "metadata": {
        "id": "freelance-kinase"
      },
      "source": [
        "_**Q (Optional): Modify your solution (if required) to handle the case where the list can contain repeating numbers.**_"
      ]
    },
    {
      "cell_type": "code",
      "execution_count": 172,
      "id": "vocational-revolution",
      "metadata": {
        "id": "vocational-revolution"
      },
      "outputs": [],
      "source": [
        "def count_rotations_generic(nums):\n",
        "    lo = 0\n",
        "    hi = len(nums)-1\n",
        "\n",
        "    if not nums:\n",
        "      return -1\n",
        "\n",
        "    elif len(nums) == 1 or nums[0] < nums[-1]:\n",
        "      return 0\n",
        "\n",
        "    while lo <= hi:\n",
        "        mid = (lo + hi) // 2\n",
        "        mid_number = nums[mid]\n",
        "\n",
        "        if mid >0 and nums[mid] < nums[mid - 1]:\n",
        "          return mid\n",
        "\n",
        "        elif nums[mid] == nums[lo] == nums[hi]:\n",
        "          lo = lo + 1\n",
        "          hi = hi - 1\n",
        "        elif nums[mid] >= nums[lo]:\n",
        "            # Answer lies in the left half\n",
        "            lo = mid + 1\n",
        "\n",
        "        else:\n",
        "            # Answer lies in the right half\n",
        "            hi = mid\n",
        "\n",
        "    return 0"
      ]
    },
    {
      "cell_type": "markdown",
      "id": "comic-metabolism",
      "metadata": {
        "id": "comic-metabolism"
      },
      "source": [
        "Test your function to make sure it works properly."
      ]
    },
    {
      "cell_type": "code",
      "execution_count": 173,
      "id": "unlike-offset",
      "metadata": {
        "colab": {
          "base_uri": "https://localhost:8080/"
        },
        "id": "unlike-offset",
        "outputId": "b35f6aad-5a9c-47d7-ed3e-01558de22219"
      },
      "outputs": [
        {
          "output_type": "stream",
          "name": "stdout",
          "text": [
            "\n",
            "\u001b[1mTEST CASE #0\u001b[0m\n",
            "\n",
            "Input:\n",
            "{'nums': [19, 25, 29, 3, 5, 6, 7, 9, 11, 14]}\n",
            "\n",
            "Expected Output:\n",
            "3\n",
            "\n",
            "\n",
            "Actual Output:\n",
            "3\n",
            "\n",
            "Execution Time:\n",
            "0.01 ms\n",
            "\n",
            "Test Result:\n",
            "\u001b[92mPASSED\u001b[0m\n",
            "\n",
            "\n",
            "\u001b[1mTEST CASE #1\u001b[0m\n",
            "\n",
            "Input:\n",
            "{'nums': [7, 11, 19, 25, 29, 3, 5, 6]}\n",
            "\n",
            "Expected Output:\n",
            "5\n",
            "\n",
            "\n",
            "Actual Output:\n",
            "5\n",
            "\n",
            "Execution Time:\n",
            "0.005 ms\n",
            "\n",
            "Test Result:\n",
            "\u001b[92mPASSED\u001b[0m\n",
            "\n",
            "\n",
            "\u001b[1mTEST CASE #2\u001b[0m\n",
            "\n",
            "Input:\n",
            "{'nums': [3, 4, 5, 7, 9]}\n",
            "\n",
            "Expected Output:\n",
            "0\n",
            "\n",
            "\n",
            "Actual Output:\n",
            "0\n",
            "\n",
            "Execution Time:\n",
            "0.002 ms\n",
            "\n",
            "Test Result:\n",
            "\u001b[92mPASSED\u001b[0m\n",
            "\n",
            "\n",
            "\u001b[1mTEST CASE #3\u001b[0m\n",
            "\n",
            "Input:\n",
            "{'nums': [9, 3, 4, 5, 7]}\n",
            "\n",
            "Expected Output:\n",
            "1\n",
            "\n",
            "\n",
            "Actual Output:\n",
            "1\n",
            "\n",
            "Execution Time:\n",
            "0.003 ms\n",
            "\n",
            "Test Result:\n",
            "\u001b[92mPASSED\u001b[0m\n",
            "\n",
            "\n",
            "\u001b[1mTEST CASE #4\u001b[0m\n",
            "\n",
            "Input:\n",
            "{'nums': [9, 3, 4, 5, 7]}\n",
            "\n",
            "Expected Output:\n",
            "1\n",
            "\n",
            "\n",
            "Actual Output:\n",
            "1\n",
            "\n",
            "Execution Time:\n",
            "0.002 ms\n",
            "\n",
            "Test Result:\n",
            "\u001b[92mPASSED\u001b[0m\n",
            "\n",
            "\n",
            "\u001b[1mTEST CASE #5\u001b[0m\n",
            "\n",
            "Input:\n",
            "{'nums': [3, 4, 5, 7, 9]}\n",
            "\n",
            "Expected Output:\n",
            "0\n",
            "\n",
            "\n",
            "Actual Output:\n",
            "0\n",
            "\n",
            "Execution Time:\n",
            "0.002 ms\n",
            "\n",
            "Test Result:\n",
            "\u001b[92mPASSED\u001b[0m\n",
            "\n",
            "\n",
            "\u001b[1mTEST CASE #6\u001b[0m\n",
            "\n",
            "Input:\n",
            "{'nums': []}\n",
            "\n",
            "Expected Output:\n",
            "-1\n",
            "\n",
            "\n",
            "Actual Output:\n",
            "-1\n",
            "\n",
            "Execution Time:\n",
            "0.002 ms\n",
            "\n",
            "Test Result:\n",
            "\u001b[92mPASSED\u001b[0m\n",
            "\n",
            "\n",
            "\u001b[1mTEST CASE #7\u001b[0m\n",
            "\n",
            "Input:\n",
            "{'nums': [3]}\n",
            "\n",
            "Expected Output:\n",
            "0\n",
            "\n",
            "\n",
            "Actual Output:\n",
            "0\n",
            "\n",
            "Execution Time:\n",
            "0.002 ms\n",
            "\n",
            "Test Result:\n",
            "\u001b[92mPASSED\u001b[0m\n",
            "\n",
            "\n",
            "\u001b[1mTEST CASE #8\u001b[0m\n",
            "\n",
            "Input:\n",
            "{'nums': [5, 6, 6, 9, 9, 9, 0, 0, 2, 3, 3, 3, 3, 4, 4]}\n",
            "\n",
            "Expected Output:\n",
            "6\n",
            "\n",
            "\n",
            "Actual Output:\n",
            "6\n",
            "\n",
            "Execution Time:\n",
            "0.003 ms\n",
            "\n",
            "Test Result:\n",
            "\u001b[92mPASSED\u001b[0m\n",
            "\n",
            "\n",
            "\u001b[1mTEST CASE #9\u001b[0m\n",
            "\n",
            "Input:\n",
            "{'nums': [6, 6]}\n",
            "\n",
            "Expected Output:\n",
            "0\n",
            "\n",
            "\n",
            "Actual Output:\n",
            "0\n",
            "\n",
            "Execution Time:\n",
            "0.002 ms\n",
            "\n",
            "Test Result:\n",
            "\u001b[92mPASSED\u001b[0m\n",
            "\n",
            "\n",
            "\u001b[1mTEST CASE #10\u001b[0m\n",
            "\n",
            "Input:\n",
            "{'nums': [4, 6, 6, 9, 9, 9, 0, 0, 2, 3, 3, 3, 3, 4, 4]}\n",
            "\n",
            "Expected Output:\n",
            "6\n",
            "\n",
            "\n",
            "Actual Output:\n",
            "6\n",
            "\n",
            "Execution Time:\n",
            "0.003 ms\n",
            "\n",
            "Test Result:\n",
            "\u001b[92mPASSED\u001b[0m\n",
            "\n",
            "\n",
            "\u001b[1mSUMMARY\u001b[0m\n",
            "\n",
            "TOTAL: 11, \u001b[92mPASSED\u001b[0m: 11, \u001b[91mFAILED\u001b[0m: 0\n"
          ]
        }
      ],
      "source": [
        "binary_search_results1 = evaluate_test_cases(count_rotations_generic, extended_tests)"
      ]
    },
    {
      "cell_type": "code",
      "execution_count": null,
      "id": "pregnant-roommate",
      "metadata": {
        "id": "pregnant-roommate"
      },
      "outputs": [],
      "source": []
    },
    {
      "cell_type": "markdown",
      "id": "center-solid",
      "metadata": {
        "id": "center-solid"
      },
      "source": [
        "Discuss your solution on the forum: https://jovian.ai/forum/c/data-structures-and-algorithms-in-python/assignment-1/87"
      ]
    },
    {
      "cell_type": "markdown",
      "id": "intermediate-mailman",
      "metadata": {
        "id": "intermediate-mailman"
      },
      "source": [
        "### Optional Bonus 3: Searching in a Rotated List\n",
        "\n",
        "Here's a slightly advanced extension to this problem:\n",
        "\n",
        "> You are given list of numbers, obtained by rotating a sorted list an unknown number of times. You are also given a target number. Write a function to find the position of the target number within the rotated list. You can assume that all the numbers in the list are unique.\n",
        ">\n",
        "> Example: In the rotated sorted list `[5, 6, 9, 0, 2, 3, 4]`, the target number `2` occurs at position `5`."
      ]
    },
    {
      "cell_type": "markdown",
      "id": "happy-attack",
      "metadata": {
        "id": "happy-attack"
      },
      "source": [
        "**Q (Optional): Create some test cases for the above problem.**"
      ]
    },
    {
      "cell_type": "code",
      "execution_count": null,
      "id": "efficient-coffee",
      "metadata": {
        "id": "efficient-coffee"
      },
      "outputs": [],
      "source": [
        "tests2 = []"
      ]
    },
    {
      "cell_type": "code",
      "execution_count": null,
      "id": "wicked-junior",
      "metadata": {
        "id": "wicked-junior"
      },
      "outputs": [],
      "source": [
        "# add test cases here"
      ]
    },
    {
      "cell_type": "code",
      "execution_count": null,
      "id": "threaded-piano",
      "metadata": {
        "id": "threaded-piano"
      },
      "outputs": [],
      "source": []
    },
    {
      "cell_type": "markdown",
      "id": "still-presentation",
      "metadata": {
        "id": "still-presentation"
      },
      "source": [
        "**Q (Optional): Implement a solution to the above problem using binary search.**\n",
        "\n",
        "_HINT:_ One way to solve this problem is to identify two sorted subarrays within the given array (using the `count_rotations_binary` function defined above), then perform a binary search on each subarray to determine the position of the target element. Another way is to modify `count_rotations_binary` to solve the problem directly."
      ]
    },
    {
      "cell_type": "code",
      "execution_count": 174,
      "id": "great-peter",
      "metadata": {
        "id": "great-peter"
      },
      "outputs": [],
      "source": [
        "def find_element(nums, target):\n",
        "    lo, hi = 0, len(nums)-1\n",
        "\n",
        "    while lo <= hi:\n",
        "        mid = (lo + hi) // 2\n",
        "        mid_number = nums[mid]\n",
        "\n",
        "        if mid_number == target:\n",
        "            return mid\n",
        "        elif nums[lo] <= nums[mid]:\n",
        "          if nums[lo] <= target < nums[mid]:\n",
        "            hi = mid - 1\n",
        "          else:\n",
        "            lo = mid + 1\n",
        "        else:\n",
        "          if nums[mid] < target <= nums[hi]:\n",
        "            lo = mid + 1\n",
        "          else:\n",
        "            hi = mid - 1\n",
        "    return -1"
      ]
    },
    {
      "cell_type": "markdown",
      "id": "initial-arthur",
      "metadata": {
        "id": "initial-arthur"
      },
      "source": [
        "Test your solution using the cells below."
      ]
    },
    {
      "cell_type": "code",
      "execution_count": 175,
      "id": "duplicate-separate",
      "metadata": {
        "colab": {
          "base_uri": "https://localhost:8080/"
        },
        "id": "duplicate-separate",
        "outputId": "3d4f9237-2b3c-4a30-b8a2-eae0b5d7fd69"
      },
      "outputs": [
        {
          "output_type": "stream",
          "name": "stdout",
          "text": [
            "Test #1: nums=[5, 6, 9, 0, 2, 3, 4], target=2, expected=4, got=4, PASS\n",
            "Test #2: nums=[5, 6, 9, 0, 2, 3, 4], target=5, expected=0, got=0, PASS\n",
            "Test #3: nums=[5, 6, 9, 0, 2, 3, 4], target=4, expected=6, got=6, PASS\n",
            "Test #4: nums=[5, 6, 9, 0, 2, 3, 4], target=7, expected=-1, got=-1, PASS\n",
            "Test #5: nums=[1], target=1, expected=0, got=0, PASS\n",
            "Test #6: nums=[1], target=0, expected=-1, got=-1, PASS\n",
            "Test #7: nums=[], target=1, expected=-1, got=-1, PASS\n",
            "Test #8: nums=[2, 3, 4, 5, 6], target=3, expected=1, got=1, PASS\n",
            "Test #9: nums=[4, 5, 6, 1, 2, 3], target=1, expected=3, got=3, PASS\n",
            "Test #10: nums=[4, 5, 6, 1, 2, 3], target=6, expected=2, got=2, PASS\n"
          ]
        }
      ],
      "source": [
        "def run_tests():\n",
        "    test_cases = [\n",
        "        ([5, 6, 9, 0, 2, 3, 4], 2, 4),\n",
        "        ([5, 6, 9, 0, 2, 3, 4], 5, 0),\n",
        "        ([5, 6, 9, 0, 2, 3, 4], 4, 6),\n",
        "        ([5, 6, 9, 0, 2, 3, 4], 7, -1),\n",
        "        ([1], 1, 0),\n",
        "        ([1], 0, -1),\n",
        "        ([], 1, -1),\n",
        "        ([2,3,4,5,6], 3, 1),\n",
        "        ([4,5,6,1,2,3], 1, 3),\n",
        "        ([4,5,6,1,2,3], 6, 2)\n",
        "    ]\n",
        "\n",
        "    for i, (nums, target, expected) in enumerate(test_cases):\n",
        "        result = find_element(nums, target)\n",
        "        print(f\"Test #{i+1}: nums={nums}, target={target}, expected={expected}, got={result}, {'PASS' if result == expected else 'FAIL'}\")\n",
        "\n",
        "run_tests()"
      ]
    },
    {
      "cell_type": "markdown",
      "id": "choice-utilization",
      "metadata": {
        "id": "choice-utilization"
      },
      "source": [
        "You can test your solution to the above problem here: https://leetcode.com/problems/search-in-rotated-sorted-array/\n",
        "\n",
        "Discuss your approach on the forum: https://jovian.ai/forum/c/data-structures-and-algorithms-in-python/assignment-1/87"
      ]
    },
    {
      "cell_type": "code",
      "execution_count": 176,
      "id": "useful-bhutan",
      "metadata": {
        "colab": {
          "base_uri": "https://localhost:8080/"
        },
        "id": "useful-bhutan",
        "outputId": "211773e1-8f3b-4075-f6cf-ca2476ecc6fd"
      },
      "outputs": [
        {
          "output_type": "stream",
          "name": "stdout",
          "text": [
            "[jovian] Detected Colab notebook...\u001b[0m\n",
            "[jovian] jovian.commit() is no longer required on Google Colab. If you ran this notebook from Jovian, \n",
            "then just save this file in Colab using Ctrl+S/Cmd+S and it will be updated on Jovian. \n",
            "Also, you can also delete this cell, it's no longer necessary.\u001b[0m\n"
          ]
        }
      ],
      "source": [
        "jovian.commit()"
      ]
    }
  ],
  "metadata": {
    "kernelspec": {
      "display_name": "Python 3",
      "language": "python",
      "name": "python3"
    },
    "language_info": {
      "codemirror_mode": {
        "name": "ipython",
        "version": 3
      },
      "file_extension": ".py",
      "mimetype": "text/x-python",
      "name": "python",
      "nbconvert_exporter": "python",
      "pygments_lexer": "ipython3",
      "version": "3.6.12"
    },
    "colab": {
      "provenance": [],
      "include_colab_link": true
    }
  },
  "nbformat": 4,
  "nbformat_minor": 5
}